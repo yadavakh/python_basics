{
 "cells": [
  {
   "cell_type": "code",
   "execution_count": 2,
   "id": "908d3deb",
   "metadata": {},
   "outputs": [
    {
     "name": "stdout",
     "output_type": "stream",
     "text": [
      "hi prateek\n",
      "hi pranshu\n",
      "hi aman\n",
      "hi harsh\n"
     ]
    }
   ],
   "source": [
    "friends=[\"prateek\",\"pranshu\",\"aman\",\"harsh\"]\n",
    "for friend in friends:\n",
    "    print(\"hi \"+friend)"
   ]
  },
  {
   "cell_type": "code",
   "execution_count": 3,
   "id": "70e52bda",
   "metadata": {},
   "outputs": [
    {
     "name": "stdout",
     "output_type": "stream",
     "text": [
      "['False', 'None', 'True', '__peg_parser__', 'and', 'as', 'assert', 'async', 'await', 'break', 'class', 'continue', 'def', 'del', 'elif', 'else', 'except', 'finally', 'for', 'from', 'global', 'if', 'import', 'in', 'is', 'lambda', 'nonlocal', 'not', 'or', 'pass', 'raise', 'return', 'try', 'while', 'with', 'yield']\n"
     ]
    }
   ],
   "source": [
    "import keyword\n",
    "print(keyword.kwlist)"
   ]
  },
  {
   "cell_type": "code",
   "execution_count": 9,
   "id": "047ffc44",
   "metadata": {},
   "outputs": [
    {
     "name": "stdout",
     "output_type": "stream",
     "text": [
      "2\n",
      "4\n",
      "6\n",
      "8\n",
      "10\n"
     ]
    }
   ],
   "source": [
    "a = lambda x: x*2\n",
    "for i in range(1,6):\n",
    "    print(a(i))"
   ]
  },
  {
   "cell_type": "code",
   "execution_count": 10,
   "id": "c5a29f91",
   "metadata": {},
   "outputs": [
    {
     "name": "stdout",
     "output_type": "stream",
     "text": [
      "1.618033988749895\n"
     ]
    }
   ],
   "source": [
    "print((1+5**(1/2))/2)"
   ]
  },
  {
   "cell_type": "code",
   "execution_count": 15,
   "id": "c371b6fa",
   "metadata": {},
   "outputs": [
    {
     "name": "stdout",
     "output_type": "stream",
     "text": [
      "the area of triangle is 7.5\n"
     ]
    }
   ],
   "source": [
    "base = 3\n",
    "height = 5\n",
    "area = (base*height)/2\n",
    "print(\"the area of triangle is \"+str(area))"
   ]
  },
  {
   "cell_type": "code",
   "execution_count": 6,
   "id": "f0a06bab",
   "metadata": {},
   "outputs": [
    {
     "name": "stdout",
     "output_type": "stream",
     "text": [
      "Hii akhil your lucky number is 45\n",
      "Hii jazz your lucky number is 36\n"
     ]
    }
   ],
   "source": [
    "def lucky_number(name):\n",
    "    number = len(name)*9\n",
    "    print(\"Hii \"+name+\" your lucky number is \"+str(number))\n",
    "    \n",
    "lucky_number(\"akhil\")\n",
    "lucky_number(\"jazz\")"
   ]
  },
  {
   "cell_type": "code",
   "execution_count": 10,
   "id": "7ef8ed71",
   "metadata": {},
   "outputs": [
    {
     "name": "stdout",
     "output_type": "stream",
     "text": [
      "june has 30 days.\n",
      "july has 31 days.\n"
     ]
    }
   ],
   "source": [
    "def month_days(month,day):\n",
    "    print(month +\" has \"+str(day)+\" days.\")\n",
    "    \n",
    "month_days(\"june\",30)\n",
    "month_days(\"july\",31)"
   ]
  },
  {
   "cell_type": "code",
   "execution_count": 4,
   "id": "e1143c52",
   "metadata": {},
   "outputs": [
    {
     "data": {
      "text/plain": [
       "'MY name is akhil MY name is akhil MY name is akhil '"
      ]
     },
     "execution_count": 4,
     "metadata": {},
     "output_type": "execute_result"
    }
   ],
   "source": [
    "name=\"MY name is akhil \"\n",
    "name*3"
   ]
  },
  {
   "cell_type": "code",
   "execution_count": 5,
   "id": "3dce7015",
   "metadata": {},
   "outputs": [
    {
     "data": {
      "text/plain": [
       "'M aei ki '"
      ]
     },
     "execution_count": 5,
     "metadata": {},
     "output_type": "execute_result"
    }
   ],
   "source": [
    "name[::2]"
   ]
  },
  {
   "cell_type": "code",
   "execution_count": 7,
   "id": "aed109a3",
   "metadata": {},
   "outputs": [
    {
     "name": "stdout",
     "output_type": "stream",
     "text": [
      "hello there!\n",
      " i am akhil\n"
     ]
    }
   ],
   "source": [
    "print(\"hello there!\\n i am akhil\")"
   ]
  },
  {
   "cell_type": "code",
   "execution_count": 8,
   "id": "f6e3921e",
   "metadata": {},
   "outputs": [
    {
     "name": "stdout",
     "output_type": "stream",
     "text": [
      "hello there! \\ my name is..\n"
     ]
    }
   ],
   "source": [
    "print(\"hello there! \\\\ my name is..\")"
   ]
  },
  {
   "cell_type": "code",
   "execution_count": 11,
   "id": "1242bbb7",
   "metadata": {},
   "outputs": [
    {
     "name": "stdout",
     "output_type": "stream",
     "text": [
      "hello i am \\akhil\n"
     ]
    }
   ],
   "source": [
    "print(r\"hello i am \\akhil\")"
   ]
  },
  {
   "cell_type": "code",
   "execution_count": 14,
   "id": "6d545b9f",
   "metadata": {},
   "outputs": [
    {
     "data": {
      "text/plain": [
       "'I AM LOWER STRING'"
      ]
     },
     "execution_count": 14,
     "metadata": {},
     "output_type": "execute_result"
    }
   ],
   "source": [
    "a = \"i am lower string\"\n",
    "A = a.upper()\n",
    "upper=A\n",
    "A"
   ]
  },
  {
   "cell_type": "code",
   "execution_count": 15,
   "id": "84311f0c",
   "metadata": {},
   "outputs": [],
   "source": [
    "x = 'This is a cat'\n",
    "y=x.replace('cat','dog')"
   ]
  },
  {
   "cell_type": "code",
   "execution_count": 16,
   "id": "6671b7c6",
   "metadata": {},
   "outputs": [
    {
     "data": {
      "text/plain": [
       "'This is a dog'"
      ]
     },
     "execution_count": 16,
     "metadata": {},
     "output_type": "execute_result"
    }
   ],
   "source": [
    "y"
   ]
  },
  {
   "cell_type": "code",
   "execution_count": 17,
   "id": "c5cc162f",
   "metadata": {},
   "outputs": [
    {
     "data": {
      "text/plain": [
       "11"
      ]
     },
     "execution_count": 17,
     "metadata": {},
     "output_type": "execute_result"
    }
   ],
   "source": [
    "y.find('og')"
   ]
  },
  {
   "cell_type": "code",
   "execution_count": 1,
   "id": "b7a12344",
   "metadata": {},
   "outputs": [],
   "source": [
    "tuple1 = (\"jack\",\"34\",\"5.11\")\n",
    "tuple2 = (\"parkson street\",'23')\n",
    "tuple3 = tuple1 +  tuple2"
   ]
  },
  {
   "cell_type": "code",
   "execution_count": 2,
   "id": "66ce4712",
   "metadata": {},
   "outputs": [
    {
     "data": {
      "text/plain": [
       "('jack', '34', '5.11', 'parkson street', '23')"
      ]
     },
     "execution_count": 2,
     "metadata": {},
     "output_type": "execute_result"
    }
   ],
   "source": [
    "tuple3"
   ]
  },
  {
   "cell_type": "code",
   "execution_count": 6,
   "id": "ef764f20",
   "metadata": {},
   "outputs": [
    {
     "data": {
      "text/plain": [
       "('jack', '34', '5.11', 'parkson street', '23', 'studies at mit', 100)"
      ]
     },
     "execution_count": 6,
     "metadata": {},
     "output_type": "execute_result"
    }
   ],
   "source": [
    "tuple3=tuple3+(\"studies at mit\",100)\n",
    "tuple3"
   ]
  },
  {
   "cell_type": "code",
   "execution_count": 7,
   "id": "91467940",
   "metadata": {},
   "outputs": [
    {
     "ename": "TypeError",
     "evalue": "'tuple' object does not support item assignment",
     "output_type": "error",
     "traceback": [
      "\u001b[1;31m---------------------------------------------------------------------------\u001b[0m",
      "\u001b[1;31mTypeError\u001b[0m                                 Traceback (most recent call last)",
      "\u001b[1;32m~\\AppData\\Local\\Temp/ipykernel_5368/2168255874.py\u001b[0m in \u001b[0;36m<module>\u001b[1;34m\u001b[0m\n\u001b[0;32m      1\u001b[0m \u001b[1;31m#TUPLES ARE IMMUTABLE\u001b[0m\u001b[1;33m\u001b[0m\u001b[1;33m\u001b[0m\u001b[0m\n\u001b[0;32m      2\u001b[0m \u001b[0mmarks\u001b[0m \u001b[1;33m=\u001b[0m \u001b[1;33m(\u001b[0m\u001b[1;36m10\u001b[0m\u001b[1;33m,\u001b[0m\u001b[1;36m41\u001b[0m\u001b[1;33m,\u001b[0m\u001b[1;36m32\u001b[0m\u001b[1;33m,\u001b[0m\u001b[1;36m54\u001b[0m\u001b[1;33m,\u001b[0m\u001b[1;36m63\u001b[0m\u001b[1;33m,\u001b[0m\u001b[1;36m85\u001b[0m\u001b[1;33m)\u001b[0m\u001b[1;33m\u001b[0m\u001b[1;33m\u001b[0m\u001b[0m\n\u001b[1;32m----> 3\u001b[1;33m \u001b[0mmarks\u001b[0m\u001b[1;33m[\u001b[0m\u001b[1;36m4\u001b[0m\u001b[1;33m]\u001b[0m\u001b[1;33m=\u001b[0m\u001b[1;36m27\u001b[0m\u001b[1;33m\u001b[0m\u001b[1;33m\u001b[0m\u001b[0m\n\u001b[0m\u001b[0;32m      4\u001b[0m \u001b[0mmarks\u001b[0m\u001b[1;33m\u001b[0m\u001b[1;33m\u001b[0m\u001b[0m\n",
      "\u001b[1;31mTypeError\u001b[0m: 'tuple' object does not support item assignment"
     ]
    }
   ],
   "source": [
    "#TUPLES ARE IMMUTABLE\n",
    "marks = (10,41,32,54,63,85)\n",
    "marks[4]=27\n",
    "marks"
   ]
  },
  {
   "cell_type": "code",
   "execution_count": 8,
   "id": "888eed12",
   "metadata": {},
   "outputs": [
    {
     "data": {
      "text/plain": [
       "(10, 41, 32, 54, 63, 85)"
      ]
     },
     "execution_count": 8,
     "metadata": {},
     "output_type": "execute_result"
    }
   ],
   "source": [
    "marks"
   ]
  },
  {
   "cell_type": "code",
   "execution_count": 9,
   "id": "6a8a26ac",
   "metadata": {},
   "outputs": [],
   "source": [
    "sorted_marks = sorted(marks)"
   ]
  },
  {
   "cell_type": "code",
   "execution_count": 10,
   "id": "3980f9c8",
   "metadata": {},
   "outputs": [
    {
     "data": {
      "text/plain": [
       "[10, 32, 41, 54, 63, 85]"
      ]
     },
     "execution_count": 10,
     "metadata": {},
     "output_type": "execute_result"
    }
   ],
   "source": [
    "sorted_marks"
   ]
  },
  {
   "cell_type": "code",
   "execution_count": 11,
   "id": "4d9ba47f",
   "metadata": {},
   "outputs": [],
   "source": [
    "#Nesting of tuples\n",
    "NT = (10,'akhil',('yadav',20),'pyhton',5)"
   ]
  },
  {
   "cell_type": "code",
   "execution_count": 13,
   "id": "36a07a3a",
   "metadata": {},
   "outputs": [
    {
     "data": {
      "text/plain": [
       "20"
      ]
     },
     "execution_count": 13,
     "metadata": {},
     "output_type": "execute_result"
    }
   ],
   "source": [
    "NT[2][1]"
   ]
  },
  {
   "cell_type": "code",
   "execution_count": 14,
   "id": "634be5dc",
   "metadata": {},
   "outputs": [
    {
     "data": {
      "text/plain": [
       "'a'"
      ]
     },
     "execution_count": 14,
     "metadata": {},
     "output_type": "execute_result"
    }
   ],
   "source": [
    "NT[2][0][1]"
   ]
  },
  {
   "cell_type": "code",
   "execution_count": 59,
   "id": "e8f1a20d",
   "metadata": {},
   "outputs": [
    {
     "data": {
      "text/plain": [
       "[22]"
      ]
     },
     "execution_count": 59,
     "metadata": {},
     "output_type": "execute_result"
    }
   ],
   "source": [
    "#LISTS\n",
    "#MUTABLE\n",
    "#ORDERED\n",
    "l = ['akhil',22,2000,'SVVV']\n",
    "l[1:2]"
   ]
  },
  {
   "cell_type": "code",
   "execution_count": 60,
   "id": "22e062db",
   "metadata": {},
   "outputs": [],
   "source": [
    "l = l +['google',20000000]"
   ]
  },
  {
   "cell_type": "code",
   "execution_count": 61,
   "id": "b6ceaf35",
   "metadata": {},
   "outputs": [
    {
     "data": {
      "text/plain": [
       "['akhil', 22, 2000, 'SVVV', 'google', 20000000]"
      ]
     },
     "execution_count": 61,
     "metadata": {},
     "output_type": "execute_result"
    }
   ],
   "source": [
    "l"
   ]
  },
  {
   "cell_type": "code",
   "execution_count": 62,
   "id": "9e87db25",
   "metadata": {},
   "outputs": [],
   "source": [
    "l[5]=2500000"
   ]
  },
  {
   "cell_type": "raw",
   "id": "fdd8d6a0",
   "metadata": {},
   "source": [
    "l"
   ]
  },
  {
   "cell_type": "code",
   "execution_count": 66,
   "id": "dbb450c4",
   "metadata": {},
   "outputs": [
    {
     "ename": "TypeError",
     "evalue": "'NoneType' object does not support item deletion",
     "output_type": "error",
     "traceback": [
      "\u001b[1;31m---------------------------------------------------------------------------\u001b[0m",
      "\u001b[1;31mTypeError\u001b[0m                                 Traceback (most recent call last)",
      "\u001b[1;32m~\\AppData\\Local\\Temp/ipykernel_5368/3264029574.py\u001b[0m in \u001b[0;36m<module>\u001b[1;34m\u001b[0m\n\u001b[1;32m----> 1\u001b[1;33m \u001b[1;32mdel\u001b[0m\u001b[1;33m(\u001b[0m\u001b[0ml\u001b[0m\u001b[1;33m[\u001b[0m\u001b[1;36m2\u001b[0m\u001b[1;33m]\u001b[0m\u001b[1;33m)\u001b[0m\u001b[1;33m\u001b[0m\u001b[1;33m\u001b[0m\u001b[0m\n\u001b[0m\u001b[0;32m      2\u001b[0m \u001b[0ml\u001b[0m\u001b[1;33m\u001b[0m\u001b[1;33m\u001b[0m\u001b[0m\n",
      "\u001b[1;31mTypeError\u001b[0m: 'NoneType' object does not support item deletion"
     ]
    }
   ],
   "source": []
  },
  {
   "cell_type": "code",
   "execution_count": 64,
   "id": "68ae1859",
   "metadata": {},
   "outputs": [],
   "source": [
    "l = l.append([\"2027\"])\n"
   ]
  },
  {
   "cell_type": "code",
   "execution_count": 85,
   "id": "425ed55b",
   "metadata": {},
   "outputs": [],
   "source": [
    "x = ['jack',20,'mark_son',25]"
   ]
  },
  {
   "cell_type": "code",
   "execution_count": 86,
   "id": "6da4af34",
   "metadata": {},
   "outputs": [],
   "source": [
    "del(x[2])"
   ]
  },
  {
   "cell_type": "code",
   "execution_count": 87,
   "id": "4c3d5291",
   "metadata": {},
   "outputs": [
    {
     "data": {
      "text/plain": [
       "['jack', 20, 25]"
      ]
     },
     "execution_count": 87,
     "metadata": {},
     "output_type": "execute_result"
    }
   ],
   "source": [
    "x"
   ]
  },
  {
   "cell_type": "code",
   "execution_count": 88,
   "id": "edfbd821",
   "metadata": {},
   "outputs": [],
   "source": [
    "x.append(\"lauren_son\")"
   ]
  },
  {
   "cell_type": "code",
   "execution_count": 89,
   "id": "31a27133",
   "metadata": {},
   "outputs": [
    {
     "data": {
      "text/plain": [
       "['jack', 20, 25, 'lauren_son']"
      ]
     },
     "execution_count": 89,
     "metadata": {},
     "output_type": "execute_result"
    }
   ],
   "source": [
    "x"
   ]
  },
  {
   "cell_type": "code",
   "execution_count": 90,
   "id": "a61e8441",
   "metadata": {},
   "outputs": [],
   "source": [
    "x.extend(['gary',54])"
   ]
  },
  {
   "cell_type": "code",
   "execution_count": 91,
   "id": "a449a9f8",
   "metadata": {},
   "outputs": [
    {
     "data": {
      "text/plain": [
       "['jack', 20, 25, 'lauren_son', 'gary', 54]"
      ]
     },
     "execution_count": 91,
     "metadata": {},
     "output_type": "execute_result"
    }
   ],
   "source": [
    "x"
   ]
  },
  {
   "cell_type": "code",
   "execution_count": 93,
   "id": "b1ba4a71",
   "metadata": {},
   "outputs": [
    {
     "data": {
      "text/plain": [
       "['A', 'B', 'C', 'D']"
      ]
     },
     "execution_count": 93,
     "metadata": {},
     "output_type": "execute_result"
    }
   ],
   "source": [
    "#split function\n",
    "\"A,B,C,D\".split(\",\")"
   ]
  },
  {
   "cell_type": "code",
   "execution_count": 94,
   "id": "1a4e1890",
   "metadata": {},
   "outputs": [
    {
     "data": {
      "text/plain": [
       "['tomato', 30, 'per kg']"
      ]
     },
     "execution_count": 94,
     "metadata": {},
     "output_type": "execute_result"
    }
   ],
   "source": [
    "#list Aliasing\n",
    "fruit=[\"banana\",30,\"per kg\"]\n",
    "vegetable=fruit\n",
    "vegetable[0]=\"tomato\"\n",
    "fruit"
   ]
  },
  {
   "cell_type": "code",
   "execution_count": 95,
   "id": "214e761c",
   "metadata": {},
   "outputs": [],
   "source": [
    "#list cloning\n",
    "vegetable = fruit[:]"
   ]
  },
  {
   "cell_type": "code",
   "execution_count": 96,
   "id": "07d9e428",
   "metadata": {},
   "outputs": [
    {
     "data": {
      "text/plain": [
       "['tomato', 30, 'per kg']"
      ]
     },
     "execution_count": 96,
     "metadata": {},
     "output_type": "execute_result"
    }
   ],
   "source": [
    "vegetable"
   ]
  },
  {
   "cell_type": "code",
   "execution_count": 98,
   "id": "141d8193",
   "metadata": {},
   "outputs": [],
   "source": [
    "vegetable[1]=45"
   ]
  },
  {
   "cell_type": "code",
   "execution_count": 99,
   "id": "a3290a0c",
   "metadata": {},
   "outputs": [
    {
     "data": {
      "text/plain": [
       "['tomato', 30, 'per kg']"
      ]
     },
     "execution_count": 99,
     "metadata": {},
     "output_type": "execute_result"
    }
   ],
   "source": [
    "fruit"
   ]
  },
  {
   "cell_type": "code",
   "execution_count": 100,
   "id": "4b7b269b",
   "metadata": {},
   "outputs": [
    {
     "data": {
      "text/plain": [
       "['tomato', 45, 'per kg']"
      ]
     },
     "execution_count": 100,
     "metadata": {},
     "output_type": "execute_result"
    }
   ],
   "source": [
    "vegetable"
   ]
  },
  {
   "cell_type": "code",
   "execution_count": 101,
   "id": "b74c823f",
   "metadata": {},
   "outputs": [
    {
     "name": "stdout",
     "output_type": "stream",
     "text": [
      "Help on list object:\n",
      "\n",
      "class list(object)\n",
      " |  list(iterable=(), /)\n",
      " |  \n",
      " |  Built-in mutable sequence.\n",
      " |  \n",
      " |  If no argument is given, the constructor creates a new empty list.\n",
      " |  The argument must be an iterable if specified.\n",
      " |  \n",
      " |  Methods defined here:\n",
      " |  \n",
      " |  __add__(self, value, /)\n",
      " |      Return self+value.\n",
      " |  \n",
      " |  __contains__(self, key, /)\n",
      " |      Return key in self.\n",
      " |  \n",
      " |  __delitem__(self, key, /)\n",
      " |      Delete self[key].\n",
      " |  \n",
      " |  __eq__(self, value, /)\n",
      " |      Return self==value.\n",
      " |  \n",
      " |  __ge__(self, value, /)\n",
      " |      Return self>=value.\n",
      " |  \n",
      " |  __getattribute__(self, name, /)\n",
      " |      Return getattr(self, name).\n",
      " |  \n",
      " |  __getitem__(...)\n",
      " |      x.__getitem__(y) <==> x[y]\n",
      " |  \n",
      " |  __gt__(self, value, /)\n",
      " |      Return self>value.\n",
      " |  \n",
      " |  __iadd__(self, value, /)\n",
      " |      Implement self+=value.\n",
      " |  \n",
      " |  __imul__(self, value, /)\n",
      " |      Implement self*=value.\n",
      " |  \n",
      " |  __init__(self, /, *args, **kwargs)\n",
      " |      Initialize self.  See help(type(self)) for accurate signature.\n",
      " |  \n",
      " |  __iter__(self, /)\n",
      " |      Implement iter(self).\n",
      " |  \n",
      " |  __le__(self, value, /)\n",
      " |      Return self<=value.\n",
      " |  \n",
      " |  __len__(self, /)\n",
      " |      Return len(self).\n",
      " |  \n",
      " |  __lt__(self, value, /)\n",
      " |      Return self<value.\n",
      " |  \n",
      " |  __mul__(self, value, /)\n",
      " |      Return self*value.\n",
      " |  \n",
      " |  __ne__(self, value, /)\n",
      " |      Return self!=value.\n",
      " |  \n",
      " |  __repr__(self, /)\n",
      " |      Return repr(self).\n",
      " |  \n",
      " |  __reversed__(self, /)\n",
      " |      Return a reverse iterator over the list.\n",
      " |  \n",
      " |  __rmul__(self, value, /)\n",
      " |      Return value*self.\n",
      " |  \n",
      " |  __setitem__(self, key, value, /)\n",
      " |      Set self[key] to value.\n",
      " |  \n",
      " |  __sizeof__(self, /)\n",
      " |      Return the size of the list in memory, in bytes.\n",
      " |  \n",
      " |  append(self, object, /)\n",
      " |      Append object to the end of the list.\n",
      " |  \n",
      " |  clear(self, /)\n",
      " |      Remove all items from list.\n",
      " |  \n",
      " |  copy(self, /)\n",
      " |      Return a shallow copy of the list.\n",
      " |  \n",
      " |  count(self, value, /)\n",
      " |      Return number of occurrences of value.\n",
      " |  \n",
      " |  extend(self, iterable, /)\n",
      " |      Extend list by appending elements from the iterable.\n",
      " |  \n",
      " |  index(self, value, start=0, stop=9223372036854775807, /)\n",
      " |      Return first index of value.\n",
      " |      \n",
      " |      Raises ValueError if the value is not present.\n",
      " |  \n",
      " |  insert(self, index, object, /)\n",
      " |      Insert object before index.\n",
      " |  \n",
      " |  pop(self, index=-1, /)\n",
      " |      Remove and return item at index (default last).\n",
      " |      \n",
      " |      Raises IndexError if list is empty or index is out of range.\n",
      " |  \n",
      " |  remove(self, value, /)\n",
      " |      Remove first occurrence of value.\n",
      " |      \n",
      " |      Raises ValueError if the value is not present.\n",
      " |  \n",
      " |  reverse(self, /)\n",
      " |      Reverse *IN PLACE*.\n",
      " |  \n",
      " |  sort(self, /, *, key=None, reverse=False)\n",
      " |      Sort the list in ascending order and return None.\n",
      " |      \n",
      " |      The sort is in-place (i.e. the list itself is modified) and stable (i.e. the\n",
      " |      order of two equal elements is maintained).\n",
      " |      \n",
      " |      If a key function is given, apply it once to each list item and sort them,\n",
      " |      ascending or descending, according to their function values.\n",
      " |      \n",
      " |      The reverse flag can be set to sort in descending order.\n",
      " |  \n",
      " |  ----------------------------------------------------------------------\n",
      " |  Class methods defined here:\n",
      " |  \n",
      " |  __class_getitem__(...) from builtins.type\n",
      " |      See PEP 585\n",
      " |  \n",
      " |  ----------------------------------------------------------------------\n",
      " |  Static methods defined here:\n",
      " |  \n",
      " |  __new__(*args, **kwargs) from builtins.type\n",
      " |      Create and return a new object.  See help(type) for accurate signature.\n",
      " |  \n",
      " |  ----------------------------------------------------------------------\n",
      " |  Data and other attributes defined here:\n",
      " |  \n",
      " |  __hash__ = None\n",
      "\n"
     ]
    }
   ],
   "source": [
    "help(fruit)"
   ]
  },
  {
   "cell_type": "code",
   "execution_count": 4,
   "id": "eb096138",
   "metadata": {},
   "outputs": [],
   "source": [
    "class circle(object):\n",
    "    def ___init__(self,radius,color):\n",
    "        self.radius = radius\n",
    "        self.color = color"
   ]
  },
  {
   "cell_type": "code",
   "execution_count": 9,
   "id": "d0497844",
   "metadata": {},
   "outputs": [
    {
     "ename": "TypeError",
     "evalue": "circle() takes no arguments",
     "output_type": "error",
     "traceback": [
      "\u001b[1;31m---------------------------------------------------------------------------\u001b[0m",
      "\u001b[1;31mTypeError\u001b[0m                                 Traceback (most recent call last)",
      "\u001b[1;32m~\\AppData\\Local\\Temp/ipykernel_4516/3041301342.py\u001b[0m in \u001b[0;36m<module>\u001b[1;34m\u001b[0m\n\u001b[1;32m----> 1\u001b[1;33m \u001b[0mc1\u001b[0m \u001b[1;33m=\u001b[0m \u001b[0mcircle\u001b[0m\u001b[1;33m(\u001b[0m\u001b[1;36m10\u001b[0m\u001b[1;33m,\u001b[0m\u001b[1;34m\"green\"\u001b[0m\u001b[1;33m)\u001b[0m\u001b[1;33m\u001b[0m\u001b[1;33m\u001b[0m\u001b[0m\n\u001b[0m",
      "\u001b[1;31mTypeError\u001b[0m: circle() takes no arguments"
     ]
    }
   ],
   "source": [
    "c1 = circle(10,\"green\")"
   ]
  },
  {
   "cell_type": "code",
   "execution_count": 1,
   "id": "c70d0360",
   "metadata": {},
   "outputs": [
    {
     "data": {
      "text/plain": [
       "\"doesn't\""
      ]
     },
     "execution_count": 1,
     "metadata": {},
     "output_type": "execute_result"
    }
   ],
   "source": [
    "\"doesn't\""
   ]
  },
  {
   "cell_type": "code",
   "execution_count": 10,
   "id": "938005a1",
   "metadata": {},
   "outputs": [
    {
     "data": {
      "text/plain": [
       "\"doesn't\""
      ]
     },
     "execution_count": 10,
     "metadata": {},
     "output_type": "execute_result"
    }
   ],
   "source": [
    "'doesn\\'t'"
   ]
  },
  {
   "cell_type": "code",
   "execution_count": 13,
   "id": "c2159327",
   "metadata": {},
   "outputs": [
    {
     "name": "stdout",
     "output_type": "stream",
     "text": [
      "0\n",
      "1\n",
      "1\n",
      "2\n",
      "3\n",
      "5\n",
      "8\n"
     ]
    }
   ],
   "source": [
    "a,b = 0,1\n",
    "while a<10:\n",
    "    print(a)\n",
    "    a,b=b,a+b"
   ]
  },
  {
   "cell_type": "code",
   "execution_count": 1,
   "id": "60a62e1f",
   "metadata": {},
   "outputs": [],
   "source": [
    "import numpy as np"
   ]
  },
  {
   "cell_type": "code",
   "execution_count": 7,
   "id": "a5fdee71",
   "metadata": {},
   "outputs": [
    {
     "data": {
      "text/plain": [
       "array([[19, 22],\n",
       "       [43, 50]])"
      ]
     },
     "execution_count": 7,
     "metadata": {},
     "output_type": "execute_result"
    }
   ],
   "source": [
    "x= np.array([[1,2],[3,4]])\n",
    "y= np.array([[5,6],[7,8]])\n",
    "#z = np.dot(x,y)\n",
    "c=x@y\n",
    "c"
   ]
  },
  {
   "cell_type": "code",
   "execution_count": 8,
   "id": "b135e155",
   "metadata": {},
   "outputs": [
    {
     "data": {
      "text/plain": [
       "(2, 2)"
      ]
     },
     "execution_count": 8,
     "metadata": {},
     "output_type": "execute_result"
    }
   ],
   "source": [
    "c.shape"
   ]
  },
  {
   "cell_type": "code",
   "execution_count": 9,
   "id": "2ad44c30",
   "metadata": {},
   "outputs": [
    {
     "data": {
      "text/plain": [
       "array([[19],\n",
       "       [22],\n",
       "       [43],\n",
       "       [50]])"
      ]
     },
     "execution_count": 9,
     "metadata": {},
     "output_type": "execute_result"
    }
   ],
   "source": [
    "c.reshape(-1,1)\n",
    "#converting into single column\n",
    "#(1,-1) to convert into single row"
   ]
  },
  {
   "cell_type": "code",
   "execution_count": 8,
   "id": "dc57ef0d",
   "metadata": {},
   "outputs": [
    {
     "name": "stdout",
     "output_type": "stream",
     "text": [
      "4977.104\n"
     ]
    },
    {
     "data": {
      "text/plain": [
       "4977.1"
      ]
     },
     "execution_count": 8,
     "metadata": {},
     "output_type": "execute_result"
    }
   ],
   "source": [
    " a= 110 * 45.2464\n",
    "print(a)\n",
    "round(a,2)"
   ]
  },
  {
   "cell_type": "code",
   "execution_count": 10,
   "id": "4c1b8652",
   "metadata": {},
   "outputs": [
    {
     "data": {
      "text/plain": [
       "\"doesn't\""
      ]
     },
     "execution_count": 10,
     "metadata": {},
     "output_type": "execute_result"
    }
   ],
   "source": [
    "'doesn\\'t'"
   ]
  },
  {
   "cell_type": "code",
   "execution_count": 11,
   "id": "34094c30",
   "metadata": {},
   "outputs": [
    {
     "data": {
      "text/plain": [
       "\"doesn't\""
      ]
     },
     "execution_count": 11,
     "metadata": {},
     "output_type": "execute_result"
    }
   ],
   "source": [
    "\"doesn't\""
   ]
  },
  {
   "cell_type": "code",
   "execution_count": 12,
   "id": "f3c69998",
   "metadata": {},
   "outputs": [
    {
     "data": {
      "text/plain": [
       "'the sum of 1+2 is 3'"
      ]
     },
     "execution_count": 12,
     "metadata": {},
     "output_type": "execute_result"
    }
   ],
   "source": [
    "\"the sum of 1+2 is {0}\".format(1+2)"
   ]
  },
  {
   "cell_type": "code",
   "execution_count": 15,
   "id": "93f1e787",
   "metadata": {},
   "outputs": [
    {
     "data": {
      "text/plain": [
       "'Akhil'"
      ]
     },
     "execution_count": 15,
     "metadata": {},
     "output_type": "execute_result"
    }
   ],
   "source": [
    "str.capitalize(\"akhil\")"
   ]
  },
  {
   "cell_type": "code",
   "execution_count": 16,
   "id": "15a86d1c",
   "metadata": {},
   "outputs": [
    {
     "data": {
      "text/plain": [
       "'YADAV'"
      ]
     },
     "execution_count": 16,
     "metadata": {},
     "output_type": "execute_result"
    }
   ],
   "source": [
    "str.upper(\"yadav\")"
   ]
  },
  {
   "cell_type": "code",
   "execution_count": 17,
   "id": "1b0b509b",
   "metadata": {},
   "outputs": [
    {
     "data": {
      "text/plain": [
       "'akhil yadav'"
      ]
     },
     "execution_count": 17,
     "metadata": {},
     "output_type": "execute_result"
    }
   ],
   "source": [
    "str.lower(\"AKHIL YADAV\")"
   ]
  },
  {
   "cell_type": "code",
   "execution_count": 18,
   "id": "d799148d",
   "metadata": {},
   "outputs": [
    {
     "data": {
      "text/plain": [
       "'Akhil   '"
      ]
     },
     "execution_count": 18,
     "metadata": {},
     "output_type": "execute_result"
    }
   ],
   "source": [
    "'   Akhil   '.lstrip()"
   ]
  },
  {
   "cell_type": "code",
   "execution_count": 21,
   "id": "e60fbc6b",
   "metadata": {},
   "outputs": [
    {
     "name": "stdout",
     "output_type": "stream",
     "text": [
      "2\n"
     ]
    }
   ],
   "source": [
    "name = \"malayalam\"\n",
    "print(name.count('l'))"
   ]
  },
  {
   "cell_type": "code",
   "execution_count": 23,
   "id": "720ec9c8",
   "metadata": {},
   "outputs": [
    {
     "data": {
      "text/plain": [
       "1"
      ]
     },
     "execution_count": 23,
     "metadata": {},
     "output_type": "execute_result"
    }
   ],
   "source": [
    "name.find('a')"
   ]
  },
  {
   "cell_type": "code",
   "execution_count": 1,
   "id": "a1ef9ebc",
   "metadata": {},
   "outputs": [
    {
     "name": "stdout",
     "output_type": "stream",
     "text": [
      "A person has 2 legs\n",
      "A cat has 4 legs\n",
      "A octopus has 8 legs\n"
     ]
    }
   ],
   "source": [
    "d={'person':2 , 'cat':4 , 'octopus':8}\n",
    "for animal,legs in d.items():\n",
    "    print('A {} has {} legs'.format(animal,legs))\n",
    "    "
   ]
  },
  {
   "cell_type": "code",
   "execution_count": 4,
   "id": "e7396eee",
   "metadata": {},
   "outputs": [
    {
     "name": "stdout",
     "output_type": "stream",
     "text": [
      "[4, 16]\n",
      "{1: 1, 2: 4, 3: 9, 4: 16, 5: 25}\n"
     ]
    }
   ],
   "source": [
    "nums=[1,2,3,4,5]\n",
    "nums_square=[x**2 for x in nums if x%2==0]\n",
    "print(nums_square)\n",
    "ns={x:x**2 for x in nums}\n",
    "print(ns)"
   ]
  },
  {
   "cell_type": "code",
   "execution_count": null,
   "id": "59c75529",
   "metadata": {},
   "outputs": [],
   "source": []
  }
 ],
 "metadata": {
  "kernelspec": {
   "display_name": "Python 3 (ipykernel)",
   "language": "python",
   "name": "python3"
  },
  "language_info": {
   "codemirror_mode": {
    "name": "ipython",
    "version": 3
   },
   "file_extension": ".py",
   "mimetype": "text/x-python",
   "name": "python",
   "nbconvert_exporter": "python",
   "pygments_lexer": "ipython3",
   "version": "3.9.7"
  }
 },
 "nbformat": 4,
 "nbformat_minor": 5
}
